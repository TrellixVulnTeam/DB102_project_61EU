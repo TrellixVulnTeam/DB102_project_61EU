{
 "cells": [
  {
   "cell_type": "code",
   "execution_count": 1,
   "metadata": {},
   "outputs": [],
   "source": [
    "from selenium import webdriver\n",
    "from selenium.webdriver import Chrome\n",
    "from selenium.webdriver.support.select import Select\n",
    "import time\n",
    "import pandas as pd\n",
    "\n",
    "url = \"https://rent.591.com.tw/?kind=0&region=3&shType=list\"\n",
    "driver = Chrome(\"./chromedriver\")\n",
    "driver.get(url)"
   ]
  },
  {
   "cell_type": "code",
   "execution_count": 2,
   "metadata": {},
   "outputs": [],
   "source": [
    "# 點選新北市\n",
    "driver.find_element_by_xpath('//*[@id=\"area-box-body\"]/dl[1]/dd[2]').click()\n",
    "time.sleep(3)"
   ]
  },
  {
   "cell_type": "code",
   "execution_count": 15,
   "metadata": {
    "scrolled": false
   },
   "outputs": [
    {
     "name": "stdout",
     "output_type": "stream",
     "text": [
      "最後一筆了\n",
      "到最後一頁了\n"
     ]
    }
   ],
   "source": [
    "all_url_list = []\n",
    "while True:\n",
    "    # 判斷是否為最後一頁，不是就點及下一頁﹐是就停下\n",
    "    pagenext = driver.find_element_by_xpath('//*[@id=\"container\"]/section[5]/div/div[1]/div[5]/div/a[8]')\n",
    "    page_href = pagenext.get_attribute(\"href\")\n",
    "    next_button = driver.find_element_by_class_name(\"pageNext\")\n",
    "#     print(page_href)\n",
    "\n",
    "    # 把一頁中的連結都存到一個list中\n",
    "    i = 1\n",
    "    while i > 0:\n",
    "        try:\n",
    "            path = '//*[@id=\"content\"]/ul' + str([i]) + '/li[2]/h3/a'\n",
    "#             print(path)\n",
    "            info = driver.find_element_by_xpath(path)\n",
    "            inf = info.get_attribute(\"href\")\n",
    "        #     print(inf)\n",
    "            all_url_list.append(inf)\n",
    "            i += 1\n",
    "        except:\n",
    "            print(\"最後一筆了\")\n",
    "            break\n",
    "\n",
    "    next_button.click()\n",
    "    time.sleep(3)\n",
    "\n",
    "\n",
    "    if page_href is None:\n",
    "        print(\"到最後一頁了\")\n",
    "        break"
   ]
  },
  {
   "cell_type": "code",
   "execution_count": 14,
   "metadata": {},
   "outputs": [
    {
     "data": {
      "text/plain": [
       "['https://rent.591.com.tw/rent-detail-8421020.html',\n",
       " 'https://rent.591.com.tw/rent-detail-8420879.html',\n",
       " 'https://rent.591.com.tw/rent-detail-8420816.html',\n",
       " 'https://rent.591.com.tw/rent-detail-8420784.html',\n",
       " 'https://rent.591.com.tw/rent-detail-8420488.html']"
      ]
     },
     "execution_count": 14,
     "metadata": {},
     "output_type": "execute_result"
    }
   ],
   "source": [
    "all_url_list[:5]"
   ]
  },
  {
   "cell_type": "code",
   "execution_count": null,
   "metadata": {},
   "outputs": [],
   "source": []
  },
  {
   "cell_type": "code",
   "execution_count": null,
   "metadata": {},
   "outputs": [],
   "source": []
  }
 ],
 "metadata": {
  "kernelspec": {
   "display_name": "Python 3",
   "language": "python",
   "name": "python3"
  },
  "language_info": {
   "codemirror_mode": {
    "name": "ipython",
    "version": 3
   },
   "file_extension": ".py",
   "mimetype": "text/x-python",
   "name": "python",
   "nbconvert_exporter": "python",
   "pygments_lexer": "ipython3",
   "version": "3.7.3"
  }
 },
 "nbformat": 4,
 "nbformat_minor": 1
}
