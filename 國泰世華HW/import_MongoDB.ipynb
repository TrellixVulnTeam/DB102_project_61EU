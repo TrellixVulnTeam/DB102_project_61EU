{
 "cells": [
  {
   "cell_type": "code",
   "execution_count": 9,
   "metadata": {},
   "outputs": [],
   "source": [
    "import pymongo\n",
    "\n",
    "conn = pymongo.MongoClient('localhost',27017)\n",
    "mydb = conn.HW_Cathay\n",
    "myCollect = mydb.testCollect"
   ]
  },
  {
   "cell_type": "code",
   "execution_count": 16,
   "metadata": {},
   "outputs": [
    {
     "data": {
      "text/plain": [
       "[{'groups': 'Movies', 'num': 46},\n",
       " {'groups': 'Sports', 'num': 8},\n",
       " {'groups': 'Coding', 'num': 12},\n",
       " {'groups': 'Fishing', 'num': 12},\n",
       " {'groups': 'Dancing', 'num': 6},\n",
       " {'groups': 'cooking', 'num': 58}]"
      ]
     },
     "execution_count": 16,
     "metadata": {},
     "output_type": "execute_result"
    }
   ],
   "source": [
    "import pandas as pd\n",
    "\n",
    "groups = [\"Movies\", \"Sports\", \"Coding\", \"Fishing\", \"Dancing\", \"cooking\"]\n",
    "num = [46, 8, 12, 12, 6, 58]\n",
    "\n",
    "dict1 = {\"groups\": groups, \"num\": num}\n",
    "select_df = pd.DataFrame(dict1)\n",
    "\n",
    "records = select_df.to_dict('records')\n",
    "records\n",
    "# myCollect.insert_many(records)"
   ]
  },
  {
   "cell_type": "code",
   "execution_count": null,
   "metadata": {},
   "outputs": [],
   "source": []
  }
 ],
 "metadata": {
  "kernelspec": {
   "display_name": "Python 3",
   "language": "python",
   "name": "python3"
  },
  "language_info": {
   "codemirror_mode": {
    "name": "ipython",
    "version": 3
   },
   "file_extension": ".py",
   "mimetype": "text/x-python",
   "name": "python",
   "nbconvert_exporter": "python",
   "pygments_lexer": "ipython3",
   "version": "3.7.3"
  }
 },
 "nbformat": 4,
 "nbformat_minor": 1
}
