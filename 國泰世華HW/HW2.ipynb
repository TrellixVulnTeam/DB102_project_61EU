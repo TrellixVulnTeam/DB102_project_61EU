{
 "cells": [
  {
   "cell_type": "code",
   "execution_count": 7,
   "metadata": {},
   "outputs": [],
   "source": [
    "from selenium import webdriver\n",
    "from selenium.webdriver import Chrome\n",
    "from selenium.webdriver.support.select import Select\n",
    "import time\n",
    "import pandas as pd\n",
    "\n",
    "url = \"https://rent.591.com.tw/?kind=0&region=3&shType=list\"\n",
    "driver = Chrome(\"./chromedriver\")\n",
    "driver.get(url)"
   ]
  },
  {
   "cell_type": "code",
   "execution_count": 2,
   "metadata": {},
   "outputs": [],
   "source": [
    "# 點選新北市\n",
    "driver.find_element_by_xpath('//*[@id=\"area-box-body\"]/dl[1]/dd[2]').click()\n",
    "# 點選台北市\n",
    "# driver.find_element_by_xpath('//*[@id=\"area-box-body\"]/dl[1]/dd[1]').click()\n",
    "\n",
    "time.sleep(3)"
   ]
  },
  {
   "cell_type": "code",
   "execution_count": 3,
   "metadata": {},
   "outputs": [],
   "source": [
    "c = [\"出租者\", \"出租者身份\"]\n",
    "df = pd.DataFrame(columns=c)"
   ]
  },
  {
   "cell_type": "code",
   "execution_count": 4,
   "metadata": {},
   "outputs": [],
   "source": [
    "all_url_list = []\n",
    "identity_list = []\n",
    "name_list = []\n",
    "while True:\n",
    "    # 判斷是否為最後一頁，不是就點及下一頁﹐是就停下\n",
    "    pagenext = driver.find_element_by_xpath('//*[@id=\"container\"]/section[5]/div/div[1]/div[5]/div/a[8]')\n",
    "    page_href = pagenext.get_attribute(\"href\")\n",
    "    next_button = driver.find_element_by_class_name(\"pageNext\")\n",
    "    page_current = driver.find_element_by_class_name(\"pageCurrent\").text\n",
    "#     print(page_href)\n",
    "#     print(page_current)\n",
    "\n",
    "    # 把一頁中的連結都存到一個list中\n",
    "    i = 1\n",
    "    while i > 0:\n",
    "        try:\n",
    "            path = '//*[@id=\"content\"]/ul' + str([i]) + '/li[2]/h3/a'\n",
    "#             print(path)\n",
    "            info = driver.find_element_by_xpath(path)\n",
    "            inf = info.get_attribute(\"href\")\n",
    "#             print(inf)\n",
    "            path2 = '//*[@id=\"content\"]/ul' + str([i]) + '/li[2]/p[3]/em[1]'\n",
    "            identity = driver.find_element_by_xpath(path2).text.split(\" \")[0]\n",
    "            name = driver.find_element_by_xpath(path2).text.split(\" \")[1]\n",
    "            all_url_list.append(inf)\n",
    "            data = [name, identity]\n",
    "            s = pd.Series(data, index=c)\n",
    "            df = df.append(s, ignore_index=True)\n",
    "            i += 1\n",
    "        except:\n",
    "            break\n",
    "\n",
    "    next_button.click()\n",
    "    time.sleep(3)\n",
    "\n",
    "\n",
    "    if page_href is None:\n",
    "        print(\"到最後一頁了\")\n",
    "        break\n",
    "\n",
    "#     if page_current == '5':  # 測試用\n",
    "#         break"
   ]
  },
  {
   "cell_type": "code",
   "execution_count": 5,
   "metadata": {},
   "outputs": [],
   "source": [
    "# df.head(7)"
   ]
  },
  {
   "cell_type": "code",
   "execution_count": 6,
   "metadata": {
    "scrolled": true,
    "collapsed": true
   },
   "outputs": [
    {
     "name": "stderr",
     "output_type": "stream",
     "text": [
      "ERROR:root:Internal Python error in the inspect module.\n",
      "Below is the traceback from this internal error.\n",
      "\n"
     ]
    },
    {
     "name": "stdout",
     "output_type": "stream",
     "text": [
      "Traceback (most recent call last):\n",
      "  File \"C:\\Users\\Andy\\AppData\\Local\\Programs\\Python\\Python37-32\\lib\\site-packages\\IPython\\core\\interactiveshell.py\", line 3326, in run_code\n",
      "    exec(code_obj, self.user_global_ns, self.user_ns)\n",
      "  File \"<ipython-input-6-e92f5b77a204>\", line 10, in <module>\n",
      "    response = urlopen(url)\n",
      "  File \"C:\\Users\\Andy\\AppData\\Local\\Programs\\Python\\Python37-32\\lib\\urllib\\request.py\", line 222, in urlopen\n",
      "    return opener.open(url, data, timeout)\n",
      "  File \"C:\\Users\\Andy\\AppData\\Local\\Programs\\Python\\Python37-32\\lib\\urllib\\request.py\", line 525, in open\n",
      "    response = self._open(req, data)\n",
      "  File \"C:\\Users\\Andy\\AppData\\Local\\Programs\\Python\\Python37-32\\lib\\urllib\\request.py\", line 543, in _open\n",
      "    '_open', req)\n",
      "  File \"C:\\Users\\Andy\\AppData\\Local\\Programs\\Python\\Python37-32\\lib\\urllib\\request.py\", line 503, in _call_chain\n",
      "    result = func(*args)\n",
      "  File \"C:\\Users\\Andy\\AppData\\Local\\Programs\\Python\\Python37-32\\lib\\urllib\\request.py\", line 1360, in https_open\n",
      "    context=self._context, check_hostname=self._check_hostname)\n",
      "  File \"C:\\Users\\Andy\\AppData\\Local\\Programs\\Python\\Python37-32\\lib\\urllib\\request.py\", line 1320, in do_open\n",
      "    r = h.getresponse()\n",
      "  File \"C:\\Users\\Andy\\AppData\\Local\\Programs\\Python\\Python37-32\\lib\\http\\client.py\", line 1321, in getresponse\n",
      "    response.begin()\n",
      "  File \"C:\\Users\\Andy\\AppData\\Local\\Programs\\Python\\Python37-32\\lib\\http\\client.py\", line 296, in begin\n",
      "    version, status, reason = self._read_status()\n",
      "  File \"C:\\Users\\Andy\\AppData\\Local\\Programs\\Python\\Python37-32\\lib\\http\\client.py\", line 257, in _read_status\n",
      "    line = str(self.fp.readline(_MAXLINE + 1), \"iso-8859-1\")\n",
      "  File \"C:\\Users\\Andy\\AppData\\Local\\Programs\\Python\\Python37-32\\lib\\socket.py\", line 589, in readinto\n",
      "    return self._sock.recv_into(b)\n",
      "  File \"C:\\Users\\Andy\\AppData\\Local\\Programs\\Python\\Python37-32\\lib\\ssl.py\", line 1052, in recv_into\n",
      "    return self.read(nbytes, buffer)\n",
      "  File \"C:\\Users\\Andy\\AppData\\Local\\Programs\\Python\\Python37-32\\lib\\ssl.py\", line 911, in read\n",
      "    return self._sslobj.read(len, buffer)\n",
      "KeyboardInterrupt\n",
      "\n",
      "During handling of the above exception, another exception occurred:\n",
      "\n",
      "Traceback (most recent call last):\n",
      "  File \"C:\\Users\\Andy\\AppData\\Local\\Programs\\Python\\Python37-32\\lib\\site-packages\\IPython\\core\\interactiveshell.py\", line 2040, in showtraceback\n",
      "    stb = value._render_traceback_()\n",
      "AttributeError: 'KeyboardInterrupt' object has no attribute '_render_traceback_'\n",
      "\n",
      "During handling of the above exception, another exception occurred:\n",
      "\n",
      "Traceback (most recent call last):\n",
      "  File \"C:\\Users\\Andy\\AppData\\Local\\Programs\\Python\\Python37-32\\lib\\site-packages\\IPython\\core\\ultratb.py\", line 1101, in get_records\n",
      "    return _fixed_getinnerframes(etb, number_of_lines_of_context, tb_offset)\n",
      "  File \"C:\\Users\\Andy\\AppData\\Local\\Programs\\Python\\Python37-32\\lib\\site-packages\\IPython\\core\\ultratb.py\", line 319, in wrapped\n",
      "    return f(*args, **kwargs)\n",
      "  File \"C:\\Users\\Andy\\AppData\\Local\\Programs\\Python\\Python37-32\\lib\\site-packages\\IPython\\core\\ultratb.py\", line 353, in _fixed_getinnerframes\n",
      "    records = fix_frame_records_filenames(inspect.getinnerframes(etb, context))\n",
      "  File \"C:\\Users\\Andy\\AppData\\Local\\Programs\\Python\\Python37-32\\lib\\inspect.py\", line 1502, in getinnerframes\n",
      "    frameinfo = (tb.tb_frame,) + getframeinfo(tb, context)\n",
      "  File \"C:\\Users\\Andy\\AppData\\Local\\Programs\\Python\\Python37-32\\lib\\inspect.py\", line 1460, in getframeinfo\n",
      "    filename = getsourcefile(frame) or getfile(frame)\n",
      "  File \"C:\\Users\\Andy\\AppData\\Local\\Programs\\Python\\Python37-32\\lib\\inspect.py\", line 696, in getsourcefile\n",
      "    if getattr(getmodule(object, filename), '__loader__', None) is not None:\n",
      "  File \"C:\\Users\\Andy\\AppData\\Local\\Programs\\Python\\Python37-32\\lib\\inspect.py\", line 739, in getmodule\n",
      "    f = getabsfile(module)\n",
      "  File \"C:\\Users\\Andy\\AppData\\Local\\Programs\\Python\\Python37-32\\lib\\inspect.py\", line 708, in getabsfile\n",
      "    _filename = getsourcefile(object) or getfile(object)\n",
      "  File \"C:\\Users\\Andy\\AppData\\Local\\Programs\\Python\\Python37-32\\lib\\inspect.py\", line 693, in getsourcefile\n",
      "    if os.path.exists(filename):\n",
      "  File \"C:\\Users\\Andy\\AppData\\Local\\Programs\\Python\\Python37-32\\lib\\genericpath.py\", line 19, in exists\n",
      "    os.stat(path)\n",
      "KeyboardInterrupt\n"
     ]
    },
    {
     "ename": "KeyboardInterrupt",
     "evalue": "",
     "traceback": [
      "\u001b[1;31m---------------------------------------------------------------------------\u001b[0m"
     ],
     "output_type": "error"
    }
   ],
   "source": [
    "from urllib.request import urlopen\n",
    "from bs4 import BeautifulSoup\n",
    "from urllib.error import HTTPError\n",
    "import pymongo\n",
    "\n",
    "c2 = [\"聯絡電話\", \"型態\", \"現況\", \"性別要求\"]\n",
    "df2 = pd.DataFrame(columns=c2)\n",
    "for url in all_url_list:\n",
    "    try:\n",
    "        response = urlopen(url)\n",
    "    except HTTPError:\n",
    "        print(\"好像是最後一頁了\") \n",
    "    html = BeautifulSoup(response)\n",
    "\n",
    "    phone = html.find(\"span\", class_=\"dialPhoneNum\").attrs.get(\"data-value\")\n",
    "    building_type = html.find(\"ul\", class_=\"attr\")\n",
    "    type_li = building_type.find_all(\"li\")\n",
    "    for t in type_li:\n",
    "        if \"型態\" in t.text:\n",
    "            build_type = t.text.replace(\"型態\\xa0:\\xa0\\xa0\", \"\")\n",
    "        if \"現況\" in t.text:    \n",
    "            situation = t.text.replace(\"現況\\xa0:\\xa0\\xa0\", \"\")\n",
    "    gender_limit = html.find_all(\"div\", class_=\"one\")\n",
    "    for gl in gender_limit:\n",
    "        if \"性別要求\" in gl.text:\n",
    "            gender_limit2 = gl.find_next_sibling(\"div\")\n",
    "    #         print(gender_limit2.text)\n",
    "            gender_limit3 = gender_limit2.text[1:]\n",
    "        else:\n",
    "            gender_limit3 = \"無此限制\"\n",
    "    data2 = [phone, build_type, situation, gender_limit3]\n",
    "    s2 = pd.Series(data2, index=c2)\n",
    "    df2 = df2.append(s2, ignore_index=True)"
   ]
  },
  {
   "cell_type": "code",
   "execution_count": null,
   "metadata": {},
   "outputs": [],
   "source": [
    "df_final = pd.concat([df, df2], axis=1, ignore_index = False)"
   ]
  },
  {
   "cell_type": "code",
   "execution_count": null,
   "metadata": {},
   "outputs": [],
   "source": [
    "df_final.to_csv(\"新北_租屋物件資料2.csv\", encoding=\"big5\", index=False)"
   ]
  },
  {
   "cell_type": "code",
   "execution_count": null,
   "metadata": {},
   "outputs": [],
   "source": [
    "# df_final.head(5)"
   ]
  },
  {
   "cell_type": "code",
   "execution_count": null,
   "metadata": {},
   "outputs": [],
   "source": [
    "conn = pymongo.MongoClient('localhost',27017)\n",
    "mydb = conn.HW_Cathay\n",
    "myCollect = mydb.rentweb\n",
    "\n",
    "records = df_final.to_dict('records')\n",
    "myCollect.insert_many(records)\n",
    "conn.close()"
   ]
  }
 ],
 "metadata": {
  "kernelspec": {
   "display_name": "Python 3",
   "language": "python",
   "name": "python3"
  },
  "language_info": {
   "codemirror_mode": {
    "name": "ipython",
    "version": 3
   },
   "file_extension": ".py",
   "mimetype": "text/x-python",
   "name": "python",
   "nbconvert_exporter": "python",
   "pygments_lexer": "ipython3",
   "version": "3.7.3"
  }
 },
 "nbformat": 4,
 "nbformat_minor": 1
}
